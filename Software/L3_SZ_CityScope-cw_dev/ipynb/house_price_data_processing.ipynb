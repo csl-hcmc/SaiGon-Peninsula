{
 "cells": [
  {
   "cell_type": "code",
   "execution_count": 1,
   "metadata": {},
   "outputs": [],
   "source": [
    "import json, os\n",
    "from coordTransform_utils import bd09_to_wgs84"
   ]
  },
  {
   "cell_type": "markdown",
   "metadata": {},
   "source": [
    "# 转坐标：bd09 -> wgs84"
   ]
  },
  {
   "cell_type": "code",
   "execution_count": 2,
   "metadata": {},
   "outputs": [],
   "source": [
    "def geojson_coord_convert_bd09_to_wgs84(source_file, save_file, name_append=None):\n",
    "    \"\"\"\n",
    "    source_file：原坐标文件读取路径（完整路径）\n",
    "    save_file: 转坐标后文件保存路径（完整路径）\n",
    "    name_append：文件名附加后缀，默认None\n",
    "    \"\"\"\n",
    "    data = json.load(open(source_file, 'r', encoding='utf-8'))\n",
    "    data['crs']['properties']['name'] = 'urn:ogc:def:crs:OGC:1.3:CRS84'\n",
    "    features = data['features']\n",
    "    # starting convert coords\n",
    "    for idx, feature in enumerate(features):\n",
    "        ftype = feature['geometry']['type']\n",
    "        coords = feature['geometry']['coordinates']\n",
    "        if ftype == 'MultiPoint':\n",
    "            new_coords = [bd09_to_wgs84(coords[0][0], coords[0][1])]\n",
    "        elif ftype == 'MultiPolygon':\n",
    "            new_coords = []\n",
    "            for mpolygon in coords:\n",
    "                new_mpolygon = []\n",
    "                for polygon in mpolygon:\n",
    "                    new_polygon = []\n",
    "                    for this_coord in polygon:\n",
    "                        this_new_coord = bd09_to_wgs84(this_coord[0], this_coord[1])\n",
    "                        new_polygon.append(this_new_coord)\n",
    "                    new_mpolygon.append(new_polygon)\n",
    "                new_coords.append(new_mpolygon)\n",
    "        elif ftype == 'MultiLineString':\n",
    "            new_coords = []\n",
    "            for line in coords:\n",
    "                new_line = []\n",
    "                for this_coord in line:\n",
    "                    this_new_coord = bd09_to_wgs84(this_coord[0], this_coord[1])\n",
    "                    new_line.append(this_new_coord)\n",
    "                new_coords.append(new_line)\n",
    "        elif ftype == 'Point':\n",
    "            new_coords = bd09_to_wgs84(coords[0], coords[1])\n",
    "        else:\n",
    "            print('Invalid geometry type: {}, converting failed'.format(ftype))\n",
    "            exit()\n",
    "        features[idx]['geometry']['coordinates'] = new_coords\n",
    "    data['features'] = features\n",
    "    if name_append is not None:\n",
    "        data['name'] = data['name'] + '_' + name_append\n",
    "    if not os.path.exists(os.path.dirname(save_file)):\n",
    "        os.makedirs(os.path.dirname(save_file))\n",
    "    json.dump(data, open(save_file, 'w', encoding='utf-8'), indent=4, ensure_ascii=False)\n",
    "    print('Coords converting finished, new file saved to: \\n{}'.format(os.path.abspath(save_file)))"
   ]
  },
  {
   "cell_type": "markdown",
   "metadata": {},
   "source": [
    "# MongoDB下载的Json转存为GeoJson"
   ]
  },
  {
   "cell_type": "code",
   "execution_count": 3,
   "metadata": {},
   "outputs": [],
   "source": [
    "def mongodb_json_to_geojson(folder, src_file, save_file):\n",
    "    \"\"\"\n",
    "    folder: json文件的文件夹\n",
    "    src_file：json文件的文件名（仅文件名，非完整路径）\n",
    "    save_file：geojson文件的保存文件名（仅文件名，非完整路径）\n",
    "    \"\"\"\n",
    "    data = json.load(open(os.path.join(folder, src_file), encoding='utf-8'))\n",
    "    out = {\n",
    "        \"type\": \"FeatureCollection\",\n",
    "        \"name\": src_file.split('.')[0],\n",
    "        \"crs\": {\n",
    "            \"type\": \"name\",\n",
    "            \"properties\": {\n",
    "                \"name\": \"urn:ogc:def:crs:OGC:1.3:CRS84\"\n",
    "            }\n",
    "        },\n",
    "        \"features\": []\n",
    "    }\n",
    "    features = []\n",
    "    exclude = ['_id', 'block_info']\n",
    "    for d in data:\n",
    "        obj = {\n",
    "            \"type\": \"Feature\",\n",
    "            \"properties\": {},\n",
    "            \"geometry\": {\n",
    "                \"type\": \"Point\",\n",
    "                \"coordinates\": None\n",
    "            }\n",
    "        }\n",
    "        for k,v  in d.items():\n",
    "            if k not in exclude:\n",
    "                obj['properties'][k] = v\n",
    "        try:\n",
    "            lng, lat = float(d['coord_lng']), float(d['coord_lat'])\n",
    "        except Exception as e:\n",
    "            print(f'\\nError: {e}\\nRaw data:\\n{d}\\nRaw data ignored, possibly due to None lng/lat')\n",
    "            continue\n",
    "        obj['geometry']['coordinates'] = [lng, lat]\n",
    "        features.append(obj)\n",
    "    out['features'] = features\n",
    "    json.dump(out, open(os.path.join(folder, save_file),'w',encoding='utf-8'),\n",
    "             indent=4, ensure_ascii=False)"
   ]
  },
  {
   "cell_type": "markdown",
   "metadata": {},
   "source": [
    "# 例子"
   ]
  },
  {
   "cell_type": "markdown",
   "metadata": {},
   "source": [
    "## 转坐标"
   ]
  },
  {
   "cell_type": "code",
   "execution_count": 4,
   "metadata": {},
   "outputs": [
    {
     "name": "stdout",
     "output_type": "stream",
     "text": [
      "['house_detailed_second_hand_lianjia_futian.geojson', 'block_lianjia_futian.geojson']\n",
      "Coords converting finished, new file saved to: \n",
      "D:\\L3\\to_jiwen\\wgs84\\house_detailed_second_hand_lianjia_futian.geojson\n",
      "Coords converting finished, new file saved to: \n",
      "D:\\L3\\to_jiwen\\wgs84\\block_lianjia_futian.geojson\n"
     ]
    }
   ],
   "source": [
    "folder = r'D:\\L3\\to_jiwen'\n",
    "json_files = [x for x in os.listdir(folder) if x.endswith('.geojson')]\n",
    "print(json_files)\n",
    "for src_file in json_files:\n",
    "    src_path = os.path.join(folder, src_file)\n",
    "    save_path = os.path.join(folder, 'wgs84', src_file)\n",
    "    geojson_coord_convert_bd09_to_wgs84(src_path, save_path)"
   ]
  },
  {
   "cell_type": "markdown",
   "metadata": {},
   "source": [
    "## Json to Geojson"
   ]
  },
  {
   "cell_type": "code",
   "execution_count": 5,
   "metadata": {},
   "outputs": [
    {
     "name": "stdout",
     "output_type": "stream",
     "text": [
      "['house_detailed_second_hand_lianjia_futian.json', 'block_lianjia_futian.json']\n",
      "\n",
      "Error: float() argument must be a string or a number, not 'NoneType'\n",
      "Raw data:\n",
      "{'_id': {'$oid': '6121deddee47a81518fdd189'}, 'url': 'https://sz.lianjia.com/ershoufang/105108223069.html', 'title': '2/9号线景田站，红本在手，满五唯一，业主诚售', 'summary_info': '1室1厅 | 41.35平米 | 南 | 简装 | 高楼层(共30层) | 2003年建 | 塔楼', 'summary_total_price': '313', 'summary_unit_price': '单价75500元/平米', 'price': '313万', 'unit_price': '75500元/平米', 'layout': '1室1厅1厨1卫', 'floor': '高楼层 (共30层)', 'fa': '41.35㎡', 'v_struct': '平层', 'area_in': '35.55㎡', 'bldg_type': '塔楼', 'orient': '南', 'bldg_struct': '钢混结构', 'decorat': '简装', 'ele_ratio': '三梯十四户', 'ele': '有', 'market_time': '2021-08-03', 'last_trade_time': '2005-12-22', 'years': '满五年', 'ass_id': '210622393649', 'ownership_type': '商品房', 'usage_type': '普通住宅', 'property_right': '非共有', 'layout_detailed': [{'name': '客厅', 'area': '12.89平米', 'orient': '西南', 'window': '普通窗'}, {'name': '卧室', 'area': '7.48平米', 'orient': '无', 'window': '未知窗户类型'}, {'name': '厨房', 'area': '2.13平米', 'orient': '无', 'window': '普通窗'}, {'name': '卫生间', 'area': '2.3平米', 'orient': '西北', 'window': '普通窗'}, {'name': '阳台', 'area': '2.14平米', 'orient': '西南', 'window': '普通窗'}, {'name': '过道', 'area': '2.3平米', 'orient': '无', 'window': '无窗'}], 'coord_lng': None, 'coord_lat': None, 'block_info': {'id': '2411049799425', 'url': 'https://sz.lianjia.com/xiaoqu/2411049799425/', 'name': None, 'address': None, 'unit_price': None, 'built_year': None, 'management_fee': None, 'bldg_num': None, 'house_num': None, 'coord_lng': None, 'coord_lat': None, '_id': {'$oid': '6121deddee47a81518fdd188'}}}\n",
      "Raw data ignored, possibly due to None lng/lat\n",
      "\n",
      "Error: float() argument must be a string or a number, not 'NoneType'\n",
      "Raw data:\n",
      "{'_id': {'$oid': '6121e72eee47a81518fdd38c'}, 'url': 'https://sz.lianjia.com/ershoufang/105106030138.html', 'title': '高楼层，南向，双地铁口物业，近莲花山。', 'summary_info': '1室1厅 | 41.34平米 | 南 | 简装 | 高楼层(共30层) | 2003年建 | 塔楼', 'summary_total_price': '313', 'summary_unit_price': '单价75500元/平米', 'price': '313万', 'unit_price': '75500元/平米', 'layout': '1室1厅1厨1卫', 'floor': '高楼层 (共30层)', 'fa': '41.34㎡', 'v_struct': '平层', 'area_in': '暂无数据', 'bldg_type': '塔楼', 'orient': '南', 'bldg_struct': '钢混结构', 'decorat': '简装', 'ele_ratio': '三梯十四户', 'ele': '有', 'market_time': '2020-12-15', 'last_trade_time': '2017-11-14', 'years': '满两年', 'ass_id': 'U212934587099', 'ownership_type': '商品房', 'usage_type': '普通住宅', 'property_right': '非共有', 'layout_detailed': [{'name': '客厅', 'area': '13.34平米', 'orient': '西南', 'window': '普通窗'}, {'name': '卧室', 'area': '8.35平米', 'orient': '无', 'window': '未知窗户类型'}, {'name': '厨房', 'area': '2.23平米', 'orient': '无', 'window': '普通窗'}, {'name': '卫生间', 'area': '1.94平米', 'orient': '东南', 'window': '普通窗'}, {'name': '阳台', 'area': '2.3平米', 'orient': '西南', 'window': '普通窗'}, {'name': '过道', 'area': '2.67平米', 'orient': '无', 'window': '无窗'}], 'coord_lng': None, 'coord_lat': None, 'block_info': {'_id': {'$oid': '6121deddee47a81518fdd188'}, 'id': '2411049799425', 'url': 'https://sz.lianjia.com/xiaoqu/2411049799425/', 'name': None, 'address': None, 'unit_price': None, 'built_year': None, 'management_fee': None, 'bldg_num': None, 'house_num': None, 'coord_lng': None, 'coord_lat': None}}\n",
      "Raw data ignored, possibly due to None lng/lat\n",
      "\n",
      "Error: float() argument must be a string or a number, not 'NoneType'\n",
      "Raw data:\n",
      "{'_id': {'$oid': '6121ea76ee47a81518fdd47a'}, 'url': 'https://sz.lianjia.com/ershoufang/105106054527.html', 'title': '税费低，楼层好，精致两房，采光没问题，交通便利', 'summary_info': '2室1厅 | 68.4平米 | 南 | 精装 | 高楼层(共30层) | 2003年建 | 塔楼', 'summary_total_price': '517', 'summary_unit_price': '单价75500元/平米', 'price': '517万', 'unit_price': '75500元/平米', 'layout': '2室1厅1厨1卫', 'floor': '高楼层 (共30层)', 'fa': '68.4㎡', 'v_struct': '平层', 'area_in': '58.81㎡', 'bldg_type': '塔楼', 'orient': '南', 'bldg_struct': '钢混结构', 'decorat': '精装', 'ele_ratio': '三梯十四户', 'ele': '有', 'market_time': '2020-12-18', 'last_trade_time': '2005-12-30', 'years': '满五年', 'ass_id': 'U215706460793', 'ownership_type': '商品房', 'usage_type': '普通住宅', 'property_right': '非共有', 'layout_detailed': [{'name': '客厅', 'area': '25.48平米', 'orient': '南', 'window': '落地窗'}, {'name': '卧室A', 'area': '10.98平米', 'orient': '无', 'window': '未知窗户类型'}, {'name': '卧室B', 'area': '8.31平米', 'orient': '无', 'window': '未知窗户类型'}, {'name': '厨房', 'area': '3.32平米', 'orient': '无', 'window': '落地窗'}, {'name': '卫生间', 'area': '2.4平米', 'orient': '西', 'window': '普通窗'}, {'name': '阳台', 'area': '2.49平米', 'orient': '南', 'window': '落地窗'}], 'coord_lng': None, 'coord_lat': None, 'block_info': {'_id': {'$oid': '6121deddee47a81518fdd188'}, 'id': '2411049799425', 'url': 'https://sz.lianjia.com/xiaoqu/2411049799425/', 'name': None, 'address': None, 'unit_price': None, 'built_year': None, 'management_fee': None, 'bldg_num': None, 'house_num': None, 'coord_lng': None, 'coord_lat': None}}\n",
      "Raw data ignored, possibly due to None lng/lat\n",
      "\n",
      "Error: float() argument must be a string or a number, not 'NoneType'\n",
      "Raw data:\n",
      "{'_id': {'$oid': '6121eb07ee47a81518fdd49b'}, 'url': 'https://sz.lianjia.com/ershoufang/105106366515.html', 'title': '满五唯一，费用少，朝南，通风透光', 'summary_info': '2室1厅 | 66.56平米 | 西南 | 精装 | 高楼层(共30层) | 2003年建 | 塔楼', 'summary_total_price': '503', 'summary_unit_price': '单价75500元/平米', 'price': '503万', 'unit_price': '75500元/平米', 'layout': '2室1厅1厨1卫', 'floor': '高楼层 (共30层)', 'fa': '66.56㎡', 'v_struct': '平层', 'area_in': '57.23㎡', 'bldg_type': '塔楼', 'orient': '西南', 'bldg_struct': '钢混结构', 'decorat': '精装', 'ele_ratio': '三梯十四户', 'ele': '有', 'market_time': '2021-01-31', 'last_trade_time': '2009-12-01', 'years': '满五年', 'ass_id': '211635795529', 'ownership_type': '商品房', 'usage_type': '普通住宅', 'property_right': '非共有', 'layout_detailed': [{'name': '客厅', 'area': '27.29平米', 'orient': '北', 'window': '落地窗'}, {'name': '卧室A', 'area': '7.47平米', 'orient': '北', 'window': '落地飘窗'}, {'name': '卧室B', 'area': '8.03平米', 'orient': '北', 'window': '落地飘窗'}, {'name': '厨房', 'area': '3.59平米', 'orient': '东', 'window': '普通窗'}, {'name': '卫生间', 'area': '2.31平米', 'orient': '无', 'window': '落地窗'}, {'name': '阳台', 'area': '4.07平米', 'orient': '北', 'window': '落地窗'}], 'coord_lng': None, 'coord_lat': None, 'block_info': {'_id': {'$oid': '6121deddee47a81518fdd188'}, 'id': '2411049799425', 'url': 'https://sz.lianjia.com/xiaoqu/2411049799425/', 'name': None, 'address': None, 'unit_price': None, 'built_year': None, 'management_fee': None, 'bldg_num': None, 'house_num': None, 'coord_lng': None, 'coord_lat': None}}\n",
      "Raw data ignored, possibly due to None lng/lat\n",
      "\n",
      "Error: float() argument must be a string or a number, not 'NoneType'\n",
      "Raw data:\n",
      "{'_id': {'$oid': '6121eb12ee47a81518fdd49d'}, 'url': 'https://sz.lianjia.com/ershoufang/105106133231.html', 'title': '万托两房满五年  唯一住房    精装修  业主诚心卖', 'summary_info': '2室1厅 | 61.62平米 | 西南 | 简装 | 中楼层(共30层) | 2003年建 | 塔楼', 'summary_total_price': '466', 'summary_unit_price': '单价75500元/平米', 'price': '466万', 'unit_price': '75500元/平米', 'layout': '2室1厅1厨1卫', 'floor': '中楼层 (共30层)', 'fa': '61.62㎡', 'v_struct': '平层', 'area_in': '暂无数据', 'bldg_type': '塔楼', 'orient': '西南', 'bldg_struct': '钢混结构', 'decorat': '简装', 'ele_ratio': '三梯十四户', 'ele': '有', 'market_time': '2020-12-28', 'last_trade_time': '2005-12-26', 'years': '满五年', 'ass_id': 'U203873101303', 'ownership_type': '商品房', 'usage_type': '普通住宅', 'property_right': '非共有', 'layout_detailed': [{'name': '客厅', 'area': '21.37平米', 'orient': '西南', 'window': '普通窗'}, {'name': '卧室A', 'area': '7.54平米', 'orient': '无', 'window': '未知窗户类型'}, {'name': '卧室B', 'area': '8.24平米', 'orient': '无', 'window': '未知窗户类型'}, {'name': '厨房', 'area': '2.76平米', 'orient': '无', 'window': '普通窗'}, {'name': '卫生间', 'area': '2.47平米', 'orient': '无', 'window': '普通窗'}, {'name': '阳台', 'area': '3.81平米', 'orient': '西南', 'window': '普通窗'}, {'name': '过道', 'area': '3.2平米', 'orient': '无', 'window': '无窗'}], 'coord_lng': None, 'coord_lat': None, 'block_info': {'_id': {'$oid': '6121deddee47a81518fdd188'}, 'id': '2411049799425', 'url': 'https://sz.lianjia.com/xiaoqu/2411049799425/', 'name': None, 'address': None, 'unit_price': None, 'built_year': None, 'management_fee': None, 'bldg_num': None, 'house_num': None, 'coord_lng': None, 'coord_lat': None}}\n",
      "Raw data ignored, possibly due to None lng/lat\n",
      "\n",
      "Error: float() argument must be a string or a number, not 'NoneType'\n",
      "Raw data:\n",
      "{'_id': {'$oid': '6121eca8ee47a81518fdd4ff'}, 'url': 'https://sz.lianjia.com/ershoufang/105107194534.html', 'title': '万托家园，精装三房，满五年唯一，税少！', 'summary_info': '3室2厅 | 78.75平米 | 南 | 精装 | 中楼层(共30层) | 2003年建 | 塔楼', 'summary_total_price': '595', 'summary_unit_price': '单价75500元/平米', 'price': '595万', 'unit_price': '75500元/平米', 'layout': '3室2厅1厨1卫', 'floor': '中楼层 (共30层)', 'fa': '78.75㎡', 'v_struct': '平层', 'area_in': '暂无数据', 'bldg_type': '塔楼', 'orient': '南', 'bldg_struct': '钢混结构', 'decorat': '精装', 'ele_ratio': '三梯十四户', 'ele': '有', 'market_time': '2021-04-30', 'last_trade_time': '2003-11-28', 'years': '满五年', 'ass_id': '213288905989', 'ownership_type': '商品房', 'usage_type': '普通住宅', 'property_right': '非共有', 'layout_detailed': [{'name': '客厅', 'area': '25.5平米', 'orient': '南', 'window': '普通窗'}, {'name': '卧室A', 'area': '10.06平米', 'orient': '南', 'window': '落地飘窗'}, {'name': '卧室B', 'area': '6.34平米', 'orient': '东', 'window': '普通窗'}, {'name': '厨房', 'area': '2.03平米', 'orient': '无', 'window': '普通窗'}, {'name': '卫生间', 'area': '2.29平米', 'orient': '无', 'window': '未知窗户类型'}, {'name': '阳台', 'area': '3.94平米', 'orient': '南', 'window': '普通窗'}, {'name': '储物间', 'area': '6.52平米', 'orient': '东', 'window': '普通窗'}, {'name': '过道', 'area': '2.68平米', 'orient': '无', 'window': '无窗'}], 'coord_lng': None, 'coord_lat': None, 'block_info': {'_id': {'$oid': '6121deddee47a81518fdd188'}, 'id': '2411049799425', 'url': 'https://sz.lianjia.com/xiaoqu/2411049799425/', 'name': None, 'address': None, 'unit_price': None, 'built_year': None, 'management_fee': None, 'bldg_num': None, 'house_num': None, 'coord_lng': None, 'coord_lat': None}}\n",
      "Raw data ignored, possibly due to None lng/lat\n",
      "\n",
      "Error: float() argument must be a string or a number, not 'NoneType'\n",
      "Raw data:\n",
      "{'_id': {'$oid': '6121ed47ee47a81518fdd523'}, 'url': 'https://sz.lianjia.com/ershoufang/105104331733.html', 'title': '万托家园，精装修，业主诚心出售。', 'summary_info': '2室1厅 | 36.72平米 | 西 | 精装 | 低楼层(共30层) | 2003年建 | 塔楼', 'summary_total_price': '278', 'summary_unit_price': '单价75500元/平米', 'price': '278万', 'unit_price': '75500元/平米', 'layout': '2室1厅1厨1卫', 'floor': '低楼层 (共30层)', 'fa': '36.72㎡', 'v_struct': '复式', 'area_in': '20.79㎡', 'bldg_type': '塔楼', 'orient': '西', 'bldg_struct': '钢混结构', 'decorat': '精装', 'ele_ratio': '三梯十九户', 'ele': '有', 'market_time': '2020-05-13', 'last_trade_time': '2017-02-17', 'years': '满两年', 'ass_id': 'U214100170870', 'ownership_type': '商品房', 'usage_type': '公寓', 'property_right': '非共有', 'layout_detailed': [{'name': '客厅', 'area': '24.4平米', 'orient': '北 南', 'window': '落地窗'}, {'name': '卧室', 'area': '8.25平米', 'orient': '无', 'window': '无窗'}, {'name': '卧室B', 'area': '11.29平米', 'orient': '无', 'window': '无窗'}, {'name': '厨房', 'area': '2.73平米', 'orient': '无', 'window': '无窗'}, {'name': '卫生间', 'area': '3.26平米', 'orient': '无', 'window': '无窗'}, {'name': '楼梯间', 'area': '4.14平米', 'orient': '无', 'window': '无窗'}, {'name': '衣帽间', 'area': '2.97平米', 'orient': '无', 'window': '无窗'}], 'coord_lng': None, 'coord_lat': None, 'block_info': {'_id': {'$oid': '6121deddee47a81518fdd188'}, 'id': '2411049799425', 'url': 'https://sz.lianjia.com/xiaoqu/2411049799425/', 'name': None, 'address': None, 'unit_price': None, 'built_year': None, 'management_fee': None, 'bldg_num': None, 'house_num': None, 'coord_lng': None, 'coord_lat': None}}\n",
      "Raw data ignored, possibly due to None lng/lat\n",
      "\n",
      "Error: float() argument must be a string or a number, not 'NoneType'\n",
      "Raw data:\n",
      "{'_id': {'$oid': '6121edd2ee47a81518fdd54c'}, 'url': 'https://sz.lianjia.com/ershoufang/105106517693.html', 'title': '房子楼下即是地铁站出行方便，快来看房', 'summary_info': '2室1厅 | 69.25平米 | 南 | 其他 | 中楼层(共30层) | 2003年建 | 塔楼', 'summary_total_price': '523', 'summary_unit_price': '单价75500元/平米', 'price': '523万', 'unit_price': '75500元/平米', 'layout': '2室1厅1厨1卫', 'floor': '中楼层 (共30层)', 'fa': '69.25㎡', 'v_struct': '平层', 'area_in': '59.55㎡', 'bldg_type': '塔楼', 'orient': '南', 'bldg_struct': '钢混结构', 'decorat': '其他', 'ele_ratio': '三梯十四户', 'ele': '有', 'market_time': '2021-03-02', 'last_trade_time': '2005-06-06', 'years': '满五年', 'ass_id': 'u208433116318', 'ownership_type': '商品房', 'usage_type': '普通住宅', 'property_right': '非共有', 'layout_detailed': [{'name': '客厅', 'area': '27.95平米', 'orient': '南', 'window': '普通窗'}, {'name': '卧室A', 'area': '8.22平米', 'orient': '无', 'window': '未知窗户类型'}, {'name': '卧室B', 'area': '10.77平米', 'orient': '无', 'window': '未知窗户类型'}, {'name': '厨房', 'area': '3.33平米', 'orient': '无', 'window': '无窗'}, {'name': '卫生间', 'area': '2.79平米', 'orient': '西', 'window': '普通窗'}, {'name': '阳台', 'area': '3.29平米', 'orient': '南', 'window': '普通窗'}], 'coord_lng': None, 'coord_lat': None, 'block_info': {'_id': {'$oid': '6121deddee47a81518fdd188'}, 'id': '2411049799425', 'url': 'https://sz.lianjia.com/xiaoqu/2411049799425/', 'name': None, 'address': None, 'unit_price': None, 'built_year': None, 'management_fee': None, 'bldg_num': None, 'house_num': None, 'coord_lng': None, 'coord_lat': None}}\n",
      "Raw data ignored, possibly due to None lng/lat\n",
      "\n",
      "Error: float() argument must be a string or a number, not 'NoneType'\n",
      "Raw data:\n",
      "{'_id': {'$oid': '6121f833ee47a81518fdd831'}, 'url': 'https://sz.lianjia.com/ershoufang/105101262135.html', 'title': '户型方正复式三房，精装修诚心出售', 'summary_info': '3室2厅 | 86.14平米 | 南 | 简装 | 低楼层(共30层) | 2003年建 | 塔楼', 'summary_total_price': '480', 'summary_unit_price': '单价55724元/平米', 'price': '480万', 'unit_price': '55724元/平米', 'layout': '3室2厅1厨1卫', 'floor': '低楼层 (共30层)', 'fa': '86.14㎡', 'v_struct': '暂无数据', 'area_in': '48.78㎡', 'bldg_type': '塔楼', 'orient': '南', 'bldg_struct': '钢混结构', 'decorat': '简装', 'ele_ratio': '三梯十九户', 'ele': '有', 'market_time': '2018-03-15', 'last_trade_time': '2017-10-19', 'years': '满两年', 'ass_id': 'U188431367918', 'ownership_type': '商品房', 'usage_type': '商业办公类', 'property_right': '非共有', 'layout_detailed': [], 'coord_lng': None, 'coord_lat': None, 'block_info': {'_id': {'$oid': '6121deddee47a81518fdd188'}, 'id': '2411049799425', 'url': 'https://sz.lianjia.com/xiaoqu/2411049799425/', 'name': None, 'address': None, 'unit_price': None, 'built_year': None, 'management_fee': None, 'bldg_num': None, 'house_num': None, 'coord_lng': None, 'coord_lat': None}}\n",
      "Raw data ignored, possibly due to None lng/lat\n",
      "\n",
      "Error: float() argument must be a string or a number, not 'NoneType'\n",
      "Raw data:\n",
      "{'_id': {'$oid': '6121fc4fee47a81518fdd947'}, 'url': 'https://sz.lianjia.com/ershoufang/105107467636.html', 'title': '满五唯一，红本在手，无欠款。实用面积93%', 'summary_info': '1室1厅 | 41.35平米 | 西 | 精装 | 中楼层(共30层) | 2003年建 | 塔楼', 'summary_total_price': '313', 'summary_unit_price': '单价75500元/平米', 'price': '313万', 'unit_price': '75500元/平米', 'layout': '1室1厅1厨1卫', 'floor': '中楼层 (共30层)', 'fa': '41.35㎡', 'v_struct': '暂无数据', 'area_in': '暂无数据', 'bldg_type': '塔楼', 'orient': '西', 'bldg_struct': '钢混结构', 'decorat': '精装', 'ele_ratio': '三梯十四户', 'ele': '有', 'market_time': '2021-05-29', 'last_trade_time': '2007-07-31', 'years': '满五年', 'ass_id': '22554686388', 'ownership_type': '商品房', 'usage_type': '普通住宅', 'property_right': '非共有', 'layout_detailed': [{'name': '客厅', 'area': '16.5平米', 'orient': '西', 'window': '普通窗'}, {'name': '卧室', 'area': '7.82平米', 'orient': '西', 'window': '飘窗'}, {'name': '厨房', 'area': '2.45平米', 'orient': '北', 'window': '普通窗'}, {'name': '卫生间', 'area': '2.08平米', 'orient': '北', 'window': '普通窗'}, {'name': '阳台', 'area': '2.77平米', 'orient': '西', 'window': '普通窗'}], 'coord_lng': None, 'coord_lat': None, 'block_info': {'_id': {'$oid': '6121deddee47a81518fdd188'}, 'id': '2411049799425', 'url': 'https://sz.lianjia.com/xiaoqu/2411049799425/', 'name': None, 'address': None, 'unit_price': None, 'built_year': None, 'management_fee': None, 'bldg_num': None, 'house_num': None, 'coord_lng': None, 'coord_lat': None}}\n",
      "Raw data ignored, possibly due to None lng/lat\n",
      "\n",
      "Error: float() argument must be a string or a number, not 'NoneType'\n",
      "Raw data:\n",
      "{'_id': {'$oid': '6121ff19ee47a81518fdda0b'}, 'url': 'https://sz.lianjia.com/ershoufang/105106179959.html', 'title': '双地铁口物业，莲花山，业主自住', 'summary_info': '2室1厅 | 68.27平米 | 北 | 其他 | 高楼层(共30层) | 2003年建 | 塔楼', 'summary_total_price': '516', 'summary_unit_price': '单价75500元/平米', 'price': '516万', 'unit_price': '75500元/平米', 'layout': '2室1厅1厨1卫', 'floor': '高楼层 (共30层)', 'fa': '68.27㎡', 'v_struct': '平层', 'area_in': '暂无数据', 'bldg_type': '塔楼', 'orient': '北', 'bldg_struct': '钢混结构', 'decorat': '其他', 'ele_ratio': '三梯十四户', 'ele': '有', 'market_time': '2021-01-04', 'last_trade_time': '2006-05-16', 'years': '满五年', 'ass_id': '216572603657 ', 'ownership_type': '商品房', 'usage_type': '普通住宅', 'property_right': '非共有', 'layout_detailed': [{'name': '客厅', 'area': '27.02平米', 'orient': '北', 'window': '普通窗'}, {'name': '卧室A', 'area': '10.67平米', 'orient': '无', 'window': '未知窗户类型'}, {'name': '卧室B', 'area': '8.11平米', 'orient': '无', 'window': '未知窗户类型'}, {'name': '厨房', 'area': '3.77平米', 'orient': '无', 'window': '无窗'}, {'name': '卫生间', 'area': '2.59平米', 'orient': '西', 'window': '普通窗'}, {'name': '阳台', 'area': '1.98平米', 'orient': '北', 'window': '普通窗'}], 'coord_lng': None, 'coord_lat': None, 'block_info': {'_id': {'$oid': '6121deddee47a81518fdd188'}, 'id': '2411049799425', 'url': 'https://sz.lianjia.com/xiaoqu/2411049799425/', 'name': None, 'address': None, 'unit_price': None, 'built_year': None, 'management_fee': None, 'bldg_num': None, 'house_num': None, 'coord_lng': None, 'coord_lat': None}}\n",
      "Raw data ignored, possibly due to None lng/lat\n",
      "\n",
      "Error: float() argument must be a string or a number, not 'NoneType'\n",
      "Raw data:\n",
      "{'_id': {'$oid': '6122309b896041103819cdb5'}, 'url': 'https://sz.lianjia.com/ershoufang/105106768542.html', 'title': '福田，新洲，满五年住宅，价格实惠。户型方正。', 'summary_info': '2室1厅 | 74.84平米 | 东 | 精装 | 高楼层(共7层) | 1992年建 | 板楼', 'summary_total_price': '590', 'summary_unit_price': '单价78835元/平米', 'price': '590万', 'unit_price': '78835元/平米', 'layout': '2室1厅1厨1卫', 'floor': '高楼层 (共7层)', 'fa': '74.84㎡', 'v_struct': '暂无数据', 'area_in': '暂无数据', 'bldg_type': '板楼', 'orient': '东', 'bldg_struct': '砖混结构', 'decorat': '精装', 'ele_ratio': '一梯四户', 'ele': '暂无数据', 'market_time': '2021-03-25', 'last_trade_time': '1993-06-25', 'years': '满五年', 'ass_id': 'U217168795389', 'ownership_type': '商品房', 'usage_type': '普通住宅', 'property_right': '共有', 'layout_detailed': [], 'coord_lng': None, 'coord_lat': None, 'block_info': {'id': '2411049445418', 'url': 'https://sz.lianjia.com/xiaoqu/2411049445418/', 'name': None, 'address': None, 'unit_price': None, 'built_year': None, 'management_fee': None, 'bldg_num': None, 'house_num': None, 'coord_lng': None, 'coord_lat': None, '_id': {'$oid': '6122309b896041103819cdb4'}}}\n",
      "Raw data ignored, possibly due to None lng/lat\n",
      "\n",
      "Error: float() argument must be a string or a number, not 'NoneType'\n",
      "Raw data:\n",
      "{'_id': {'$oid': '6121deddee47a81518fdd188'}, 'id': '2411049799425', 'url': 'https://sz.lianjia.com/xiaoqu/2411049799425/', 'name': None, 'address': None, 'unit_price': None, 'built_year': None, 'management_fee': None, 'bldg_num': None, 'house_num': None, 'coord_lng': None, 'coord_lat': None}\n",
      "Raw data ignored, possibly due to None lng/lat\n",
      "\n",
      "Error: float() argument must be a string or a number, not 'NoneType'\n",
      "Raw data:\n",
      "{'_id': {'$oid': '6122309b896041103819cdb4'}, 'id': '2411049445418', 'url': 'https://sz.lianjia.com/xiaoqu/2411049445418/', 'name': None, 'address': None, 'unit_price': None, 'built_year': None, 'management_fee': None, 'bldg_num': None, 'house_num': None, 'coord_lng': None, 'coord_lat': None}\n",
      "Raw data ignored, possibly due to None lng/lat\n"
     ]
    }
   ],
   "source": [
    "folder = r'D:\\L3\\to_jiwen'\n",
    "json_files = [x for x in os.listdir(folder) if x.endswith('.json')]\n",
    "print(json_files)\n",
    "for src_file in json_files:\n",
    "    save_file = f\"{src_file.split('.')[0]}.geojson\"\n",
    "    mongodb_json_to_geojson(folder, src_file, save_file)"
   ]
  }
 ],
 "metadata": {
  "kernelspec": {
   "display_name": "Python 3",
   "language": "python",
   "name": "python3"
  },
  "language_info": {
   "codemirror_mode": {
    "name": "ipython",
    "version": 3
   },
   "file_extension": ".py",
   "mimetype": "text/x-python",
   "name": "python",
   "nbconvert_exporter": "python",
   "pygments_lexer": "ipython3",
   "version": "3.7.3"
  }
 },
 "nbformat": 4,
 "nbformat_minor": 4
}
